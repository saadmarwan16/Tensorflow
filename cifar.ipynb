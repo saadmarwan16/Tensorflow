{
  "nbformat": 4,
  "nbformat_minor": 0,
  "metadata": {
    "colab": {
      "name": "cifar.ipynb",
      "provenance": [],
      "authorship_tag": "ABX9TyN2gzzdk3/vPjyxL7IIbXgY",
      "include_colab_link": true
    },
    "kernelspec": {
      "name": "python3",
      "display_name": "Python 3"
    },
    "language_info": {
      "name": "python"
    }
  },
  "cells": [
    {
      "cell_type": "markdown",
      "metadata": {
        "id": "view-in-github",
        "colab_type": "text"
      },
      "source": [
        "<a href=\"https://colab.research.google.com/github/saadmarwan16/Tensorflow/blob/main/cifar.ipynb\" target=\"_parent\"><img src=\"https://colab.research.google.com/assets/colab-badge.svg\" alt=\"Open In Colab\"/></a>"
      ]
    },
    {
      "cell_type": "code",
      "metadata": {
        "id": "v-Q7U3Oy756n"
      },
      "source": [
        "import tensorflow as tf\n",
        "import numpy as np\n",
        "import matplotlib.pyplot as plt\n",
        "from tensorflow.keras.layers import Input, Conv2D, Dense, Flatten, Dropout, GlobalMaxPooling2D\n",
        "from tensorflow.keras.models import Model"
      ],
      "execution_count": 1,
      "outputs": []
    },
    {
      "cell_type": "code",
      "metadata": {
        "colab": {
          "base_uri": "https://localhost:8080/"
        },
        "id": "RUJcGjFy9GnV",
        "outputId": "9058ef9d-f570-4f04-e938-933b9b822361"
      },
      "source": [
        "cifar10 = tf.keras.datasets.cifar10\n",
        "\n",
        "(x_train, y_train), (x_test, y_test) = cifar10.load_data()\n",
        "x_train, x_test = x_train / 255.0, x_test / 255.0\n",
        "y_train, y_test = y_train.flatten(), y_test.flatten()\n",
        "print('x_train.shape:', x_train.shape)\n",
        "print('y_train.shape:', y_train.shape)"
      ],
      "execution_count": 6,
      "outputs": [
        {
          "output_type": "stream",
          "text": [
            "x_train.shape: (50000, 32, 32, 3)\n",
            "y_train.shape: (50000,)\n"
          ],
          "name": "stdout"
        }
      ]
    },
    {
      "cell_type": "code",
      "metadata": {
        "colab": {
          "base_uri": "https://localhost:8080/"
        },
        "id": "pNvVXr1V-XyS",
        "outputId": "d78ec856-0417-4e64-9e4d-032d4a5e3b1e"
      },
      "source": [
        "K = len(set(y_train))\n",
        "print('number of classes:', K)"
      ],
      "execution_count": 7,
      "outputs": [
        {
          "output_type": "stream",
          "text": [
            "number of classes: 10\n"
          ],
          "name": "stdout"
        }
      ]
    },
    {
      "cell_type": "code",
      "metadata": {
        "id": "REhiJR3I-tuU"
      },
      "source": [
        "i = Input(shape=x_train[0].shape, )\n",
        "x = Conv2D(32, (3, 3), strides=2, activation='relu')(i)\n",
        "x = Conv2D(64, (3, 3), strides=2, activation='relu')(x)\n",
        "x = Conv2D(128, (3, 3), strides=2, activation='relu')(x)\n",
        "x = Flatten()(x)\n",
        "x = Dropout(0.5)(x)\n",
        "x = Dense(1024, activation='relu')(x)\n",
        "x = Dropout(0.2)(x)\n",
        "x = Dense(K, activation='softmax')(x)\n",
        "\n",
        "model = Model(i, x)"
      ],
      "execution_count": 8,
      "outputs": []
    },
    {
      "cell_type": "code",
      "metadata": {
        "colab": {
          "base_uri": "https://localhost:8080/"
        },
        "id": "bONUDBM5_R1_",
        "outputId": "f8f42fd1-430a-48cb-833a-ab80bec10496"
      },
      "source": [
        "model.compile(\n",
        "    optimizer='adam',\n",
        "    loss='sparse_categorical_crossentropy',\n",
        "    metrics=['accuracy'],\n",
        ")\n",
        "\n",
        "r = model.fit(x_train, y_train, validation_data=(x_test, y_test), epochs=15)"
      ],
      "execution_count": 9,
      "outputs": [
        {
          "output_type": "stream",
          "text": [
            "Epoch 1/15\n",
            "1563/1563 [==============================] - 48s 30ms/step - loss: 1.5665 - accuracy: 0.4296 - val_loss: 1.3259 - val_accuracy: 0.5204\n",
            "Epoch 2/15\n",
            "1563/1563 [==============================] - 46s 30ms/step - loss: 1.2817 - accuracy: 0.5407 - val_loss: 1.1335 - val_accuracy: 0.5894\n",
            "Epoch 3/15\n",
            "1563/1563 [==============================] - 47s 30ms/step - loss: 1.1656 - accuracy: 0.5809 - val_loss: 1.0338 - val_accuracy: 0.6267\n",
            "Epoch 4/15\n",
            "1563/1563 [==============================] - 47s 30ms/step - loss: 1.0792 - accuracy: 0.6138 - val_loss: 1.0088 - val_accuracy: 0.6393\n",
            "Epoch 5/15\n",
            "1563/1563 [==============================] - 47s 30ms/step - loss: 1.0117 - accuracy: 0.6370 - val_loss: 1.0029 - val_accuracy: 0.6458\n",
            "Epoch 6/15\n",
            "1563/1563 [==============================] - 47s 30ms/step - loss: 0.9468 - accuracy: 0.6651 - val_loss: 0.9558 - val_accuracy: 0.6678\n",
            "Epoch 7/15\n",
            "1563/1563 [==============================] - 47s 30ms/step - loss: 0.8891 - accuracy: 0.6842 - val_loss: 0.8938 - val_accuracy: 0.6904\n",
            "Epoch 8/15\n",
            "1563/1563 [==============================] - 47s 30ms/step - loss: 0.8407 - accuracy: 0.7023 - val_loss: 0.8597 - val_accuracy: 0.7047\n",
            "Epoch 9/15\n",
            "1563/1563 [==============================] - 47s 30ms/step - loss: 0.8091 - accuracy: 0.7114 - val_loss: 0.8404 - val_accuracy: 0.7088\n",
            "Epoch 10/15\n",
            "1563/1563 [==============================] - 48s 30ms/step - loss: 0.7731 - accuracy: 0.7246 - val_loss: 0.8289 - val_accuracy: 0.7104\n",
            "Epoch 11/15\n",
            "1563/1563 [==============================] - 47s 30ms/step - loss: 0.7404 - accuracy: 0.7361 - val_loss: 0.8426 - val_accuracy: 0.7053\n",
            "Epoch 12/15\n",
            "1563/1563 [==============================] - 47s 30ms/step - loss: 0.7172 - accuracy: 0.7450 - val_loss: 0.8279 - val_accuracy: 0.7150\n",
            "Epoch 13/15\n",
            "1563/1563 [==============================] - 47s 30ms/step - loss: 0.6853 - accuracy: 0.7544 - val_loss: 0.8100 - val_accuracy: 0.7226\n",
            "Epoch 14/15\n",
            "1563/1563 [==============================] - 47s 30ms/step - loss: 0.6605 - accuracy: 0.7642 - val_loss: 0.8055 - val_accuracy: 0.7189\n",
            "Epoch 15/15\n",
            "1563/1563 [==============================] - 47s 30ms/step - loss: 0.6453 - accuracy: 0.7688 - val_loss: 0.7996 - val_accuracy: 0.7240\n"
          ],
          "name": "stdout"
        }
      ]
    },
    {
      "cell_type": "code",
      "metadata": {
        "colab": {
          "base_uri": "https://localhost:8080/",
          "height": 266
        },
        "id": "z2a20YYf_phN",
        "outputId": "e06d155d-5ab0-4b06-8091-2071eee16502"
      },
      "source": [
        "plt.plot(r.history['loss'], label='loss')\n",
        "plt.plot(r.history['val_loss'], label='val_loss')\n",
        "plt.legend();"
      ],
      "execution_count": 10,
      "outputs": [
        {
          "output_type": "display_data",
          "data": {
            "image/png": "[encoded data removed]",
            "text/plain": [
              "<Figure size 432x288 with 1 Axes>"
            ]
          },
          "metadata": {
            "tags": [],
            "needs_background": "light"
          }
        }
      ]
    },
    {
      "cell_type": "code",
      "metadata": {
        "colab": {
          "base_uri": "https://localhost:8080/",
          "height": 264
        },
        "id": "k23XNZDyABe2",
        "outputId": "bfb8818c-b1a1-4cd9-e706-ed3e1fa37e9a"
      },
      "source": [
        "plt.plot(r.history['accuracy'], label='accuracy')\n",
        "plt.plot(r.history['val_accuracy'], label='val_accuracy')\n",
        "plt.legend();"
      ],
      "execution_count": 11,
      "outputs": [
        {
          "output_type": "display_data",
          "data": {
            "image/png": "[encoded data removed]",
            "text/plain": [
              "<Figure size 432x288 with 1 Axes>"
            ]
          },
          "metadata": {
            "tags": [],
            "needs_background": "light"
          }
        }
      ]
    },
    {
      "cell_type": "code",
      "metadata": {
        "id": "tXI9xyaECfGW"
      },
      "source": [
        ""
      ],
      "execution_count": null,
      "outputs": []
    }
  ]
}