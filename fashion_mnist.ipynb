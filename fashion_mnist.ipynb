{
  "nbformat": 4,
  "nbformat_minor": 0,
  "metadata": {
    "colab": {
      "name": "fashion_mnist.ipynb",
      "provenance": [],
      "collapsed_sections": [],
      "authorship_tag": "ABX9TyOE49NsX+M+gjD1uN4iF5qi",
      "include_colab_link": true
    },
    "kernelspec": {
      "name": "python3",
      "display_name": "Python 3"
    },
    "language_info": {
      "name": "python"
    }
  },
  "cells": [
    {
      "cell_type": "markdown",
      "metadata": {
        "id": "view-in-github",
        "colab_type": "text"
      },
      "source": [
        "<a href=\"https://colab.research.google.com/github/saadmarwan16/Tensorflow/blob/main/fashion_mnist.ipynb\" target=\"_parent\"><img src=\"https://colab.research.google.com/assets/colab-badge.svg\" alt=\"Open In Colab\"/></a>"
      ]
    },
    {
      "cell_type": "code",
      "metadata": {
        "id": "v-UlDtC2qgM-"
      },
      "source": [
        "import tensorflow as tf\n",
        "import numpy as np\n",
        "import matplotlib.pyplot as plt\n",
        "from tensorflow.keras.layers import Input, Conv2D, Dense, Flatten, Dropout\n",
        "from tensorflow.keras.models import Model"
      ],
      "execution_count": 2,
      "outputs": []
    },
    {
      "cell_type": "code",
      "metadata": {
        "colab": {
          "base_uri": "https://localhost:8080/"
        },
        "id": "OR_BrTGrwiom",
        "outputId": "5b32a7da-7f1f-4727-a727-995d8a639593"
      },
      "source": [
        "fashion_mnist = tf.keras.datasets.fashion_mnist\n",
        "\n",
        "(x_train, y_train), (x_test, y_test) = fashion_mnist.load_data()\n",
        "x_train, x_test = x_train / 255.0, x_test / 255.0\n",
        "print('x_train.shape:', x_train.shape)"
      ],
      "execution_count": 3,
      "outputs": [
        {
          "output_type": "stream",
          "text": [
            "Downloading data from https://storage.googleapis.com/tensorflow/tf-keras-datasets/train-labels-idx1-ubyte.gz\n",
            "32768/29515 [=================================] - 0s 0us/step\n",
            "Downloading data from https://storage.googleapis.com/tensorflow/tf-keras-datasets/train-images-idx3-ubyte.gz\n",
            "26427392/26421880 [==============================] - 0s 0us/step\n",
            "Downloading data from https://storage.googleapis.com/tensorflow/tf-keras-datasets/t10k-labels-idx1-ubyte.gz\n",
            "8192/5148 [===============================================] - 0s 0us/step\n",
            "Downloading data from https://storage.googleapis.com/tensorflow/tf-keras-datasets/t10k-images-idx3-ubyte.gz\n",
            "4423680/4422102 [==============================] - 0s 0us/step\n",
            "x_train.shape: (60000, 28, 28)\n"
          ],
          "name": "stdout"
        }
      ]
    },
    {
      "cell_type": "code",
      "metadata": {
        "colab": {
          "base_uri": "https://localhost:8080/"
        },
        "id": "hBDiDB8oyhUk",
        "outputId": "e99a1c6e-7291-4947-ed9d-409ce8800413"
      },
      "source": [
        "x_train = np.expand_dims(x_train, -1)\n",
        "x_test = np.expand_dims(x_test, -1)\n",
        "print(x_train.shape)"
      ],
      "execution_count": 7,
      "outputs": [
        {
          "output_type": "stream",
          "text": [
            "(60000, 28, 28, 1)\n"
          ],
          "name": "stdout"
        }
      ]
    },
    {
      "cell_type": "code",
      "metadata": {
        "colab": {
          "base_uri": "https://localhost:8080/"
        },
        "id": "MWByat4Ozcwj",
        "outputId": "6ce71173-7b1f-4615-99da-f48b3d355364"
      },
      "source": [
        "K = len(set(y_train))\n",
        "print('number of classes:', K)"
      ],
      "execution_count": 10,
      "outputs": [
        {
          "output_type": "stream",
          "text": [
            "number of classes: 10\n"
          ],
          "name": "stdout"
        }
      ]
    },
    {
      "cell_type": "code",
      "metadata": {
        "id": "XQ583e6e006s"
      },
      "source": [
        "i = Input(shape=x_train[0].shape, )\n",
        "x = Conv2D(32, (3, 3), strides=2, activation='relu')(i)\n",
        "x = Conv2D(64, (3, 3), strides=2, activation='relu')(x)\n",
        "x = Conv2D(128, (3, 3), strides=2, activation='relu')(x)\n",
        "x = Flatten()(x)\n",
        "x = Dropout(0.2)(x)\n",
        "x = Dense(512, activation='relu')(x)\n",
        "x = Dropout(0.2)(x)\n",
        "x = Dense(K, activation='softmax')(x)\n",
        "\n",
        "model = Model(i, x)"
      ],
      "execution_count": 13,
      "outputs": []
    },
    {
      "cell_type": "code",
      "metadata": {
        "colab": {
          "base_uri": "https://localhost:8080/"
        },
        "id": "UZ6tNcMc5ADg",
        "outputId": "41046222-cd44-4400-cea1-0d9f87ed2337"
      },
      "source": [
        "model.compile(\n",
        "    optimizer='adam',\n",
        "    loss='sparse_categorical_crossentropy',\n",
        "    metrics=['accuracy'],\n",
        ")\n",
        "\n",
        "r = model.fit(x_train, y_train, validation_data=(x_test, y_test), epochs=15,)"
      ],
      "execution_count": 14,
      "outputs": [
        {
          "output_type": "stream",
          "text": [
            "Epoch 1/15\n",
            "1875/1875 [==============================] - 34s 18ms/step - loss: 0.5278 - accuracy: 0.8044 - val_loss: 0.4234 - val_accuracy: 0.8389\n",
            "Epoch 2/15\n",
            "1875/1875 [==============================] - 29s 16ms/step - loss: 0.3696 - accuracy: 0.8612 - val_loss: 0.3518 - val_accuracy: 0.8667\n",
            "Epoch 3/15\n",
            "1875/1875 [==============================] - 29s 16ms/step - loss: 0.3223 - accuracy: 0.8775 - val_loss: 0.3519 - val_accuracy: 0.8702\n",
            "Epoch 4/15\n",
            "1875/1875 [==============================] - 29s 15ms/step - loss: 0.2887 - accuracy: 0.8906 - val_loss: 0.3132 - val_accuracy: 0.8852\n",
            "Epoch 5/15\n",
            "1875/1875 [==============================] - 29s 15ms/step - loss: 0.2628 - accuracy: 0.8996 - val_loss: 0.3098 - val_accuracy: 0.8858\n",
            "Epoch 6/15\n",
            "1875/1875 [==============================] - 29s 15ms/step - loss: 0.2405 - accuracy: 0.9082 - val_loss: 0.3040 - val_accuracy: 0.8893\n",
            "Epoch 7/15\n",
            "1875/1875 [==============================] - 29s 15ms/step - loss: 0.2204 - accuracy: 0.9170 - val_loss: 0.2989 - val_accuracy: 0.8899\n",
            "Epoch 8/15\n",
            "1875/1875 [==============================] - 31s 16ms/step - loss: 0.2083 - accuracy: 0.9191 - val_loss: 0.3070 - val_accuracy: 0.8949\n",
            "Epoch 9/15\n",
            "1875/1875 [==============================] - 30s 16ms/step - loss: 0.1934 - accuracy: 0.9260 - val_loss: 0.3069 - val_accuracy: 0.8971\n",
            "Epoch 10/15\n",
            "1875/1875 [==============================] - 30s 16ms/step - loss: 0.1802 - accuracy: 0.9310 - val_loss: 0.3217 - val_accuracy: 0.8938\n",
            "Epoch 11/15\n",
            "1875/1875 [==============================] - 30s 16ms/step - loss: 0.1692 - accuracy: 0.9346 - val_loss: 0.3161 - val_accuracy: 0.8983\n",
            "Epoch 12/15\n",
            "1875/1875 [==============================] - 31s 16ms/step - loss: 0.1568 - accuracy: 0.9400 - val_loss: 0.3358 - val_accuracy: 0.9004\n",
            "Epoch 13/15\n",
            "1875/1875 [==============================] - 30s 16ms/step - loss: 0.1483 - accuracy: 0.9433 - val_loss: 0.3368 - val_accuracy: 0.8990\n",
            "Epoch 14/15\n",
            "1875/1875 [==============================] - 30s 16ms/step - loss: 0.1384 - accuracy: 0.9467 - val_loss: 0.3627 - val_accuracy: 0.8965\n",
            "Epoch 15/15\n",
            "1875/1875 [==============================] - 31s 16ms/step - loss: 0.1337 - accuracy: 0.9477 - val_loss: 0.3901 - val_accuracy: 0.8957\n"
          ],
          "name": "stdout"
        }
      ]
    },
    {
      "cell_type": "code",
      "metadata": {
        "colab": {
          "base_uri": "https://localhost:8080/",
          "height": 264
        },
        "id": "RPvRYUlv6GOr",
        "outputId": "1831d733-e7a6-4f28-d94f-5872153a5bb1"
      },
      "source": [
        "import matplotlib.pyplot as plt\n",
        "\n",
        "plt.plot(r.history['loss'], label='loss')\n",
        "plt.plot(r.history['val_loss'], label='val_loss')\n",
        "plt.legend();"
      ],
      "execution_count": 16,
      "outputs": [
        {
          "output_type": "display_data",
          "data": {
            "image/png": "[encoded data removed]",
            "text/plain": [
              "<Figure size 432x288 with 1 Axes>"
            ]
          },
          "metadata": {
            "tags": [],
            "needs_background": "light"
          }
        }
      ]
    },
    {
      "cell_type": "code",
      "metadata": {
        "colab": {
          "base_uri": "https://localhost:8080/",
          "height": 264
        },
        "id": "1ids_3Rw6220",
        "outputId": "a477b61c-9807-44a4-a4fc-6baad393715b"
      },
      "source": [
        "plt.plot(r.history['accuracy'], label='accuracy')\n",
        "plt.plot(r.history['val_accuracy'], label='val_accuracy')\n",
        "plt.legend();"
      ],
      "execution_count": 18,
      "outputs": [
        {
          "output_type": "display_data",
          "data": {
            "image/png": "[encoded data removed]",
            "text/plain": [
              "<Figure size 432x288 with 1 Axes>"
            ]
          },
          "metadata": {
            "tags": [],
            "needs_background": "light"
          }
        }
      ]
    },
    {
      "cell_type": "code",
      "metadata": {
        "id": "tVJ5r5cB8Aui"
      },
      "source": [
        ""
      ],
      "execution_count": null,
      "outputs": []
    }
  ]
}