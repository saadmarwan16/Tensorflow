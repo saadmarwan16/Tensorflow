{
  "nbformat": 4,
  "nbformat_minor": 0,
  "metadata": {
    "colab": {
      "name": "linear_classification.ipynb",
      "provenance": [],
      "authorship_tag": "ABX9TyNqIWeLTNo2XV9ebV8a2Dpa",
      "include_colab_link": true
    },
    "kernelspec": {
      "name": "python3",
      "display_name": "Python 3"
    },
    "language_info": {
      "name": "python"
    }
  },
  "cells": [
    {
      "cell_type": "markdown",
      "metadata": {
        "id": "view-in-github",
        "colab_type": "text"
      },
      "source": [
        "<a href=\"https://colab.research.google.com/github/saadmarwan16/Tensorflow/blob/main/linear_classification.ipynb\" target=\"_parent\"><img src=\"https://colab.research.google.com/assets/colab-badge.svg\" alt=\"Open In Colab\"/></a>"
      ]
    },
    {
      "cell_type": "code",
      "metadata": {
        "id": "IxMrXHiNrFcD"
      },
      "source": [
        "import tensorflow as tf"
      ],
      "execution_count": 18,
      "outputs": []
    },
    {
      "cell_type": "code",
      "metadata": {
        "id": "-_NwkoE9t2V2"
      },
      "source": [
        "from sklearn.datasets import load_breast_cancer"
      ],
      "execution_count": 19,
      "outputs": []
    },
    {
      "cell_type": "code",
      "metadata": {
        "id": "fMV0bkhpuAAd"
      },
      "source": [
        "data = load_breast_cancer()"
      ],
      "execution_count": 20,
      "outputs": []
    },
    {
      "cell_type": "code",
      "metadata": {
        "colab": {
          "base_uri": "https://localhost:8080/"
        },
        "id": "AXktPZ61uDpl",
        "outputId": "dd49fcc0-825a-4db9-b304-8211da9a6d69"
      },
      "source": [
        "type(data)"
      ],
      "execution_count": 21,
      "outputs": [
        {
          "output_type": "execute_result",
          "data": {
            "text/plain": [
              "sklearn.utils.Bunch"
            ]
          },
          "metadata": {
            "tags": []
          },
          "execution_count": 21
        }
      ]
    },
    {
      "cell_type": "code",
      "metadata": {
        "colab": {
          "base_uri": "https://localhost:8080/"
        },
        "id": "7JhCw5FPuEzK",
        "outputId": "a8256fd3-ee09-470f-b095-56bdd833b77b"
      },
      "source": [
        "data.keys()"
      ],
      "execution_count": 22,
      "outputs": [
        {
          "output_type": "execute_result",
          "data": {
            "text/plain": [
              "dict_keys(['data', 'target', 'target_names', 'DESCR', 'feature_names', 'filename'])"
            ]
          },
          "metadata": {
            "tags": []
          },
          "execution_count": 22
        }
      ]
    },
    {
      "cell_type": "code",
      "metadata": {
        "colab": {
          "base_uri": "https://localhost:8080/"
        },
        "id": "x5US6RgGuIjp",
        "outputId": "146a9eba-2cda-4ec4-ca4a-2185a5abd2c8"
      },
      "source": [
        "data.data.shape"
      ],
      "execution_count": 23,
      "outputs": [
        {
          "output_type": "execute_result",
          "data": {
            "text/plain": [
              "(569, 30)"
            ]
          },
          "metadata": {
            "tags": []
          },
          "execution_count": 23
        }
      ]
    },
    {
      "cell_type": "code",
      "metadata": {
        "colab": {
          "base_uri": "https://localhost:8080/"
        },
        "id": "4icWwarcuW-D",
        "outputId": "ef261dc0-0c08-408d-ba86-709fd9399aa4"
      },
      "source": [
        "data.target"
      ],
      "execution_count": 24,
      "outputs": [
        {
          "output_type": "execute_result",
          "data": {
            "text/plain": [
              "array([0, 0, 0, 0, 0, 0, 0, 0, 0, 0, 0, 0, 0, 0, 0, 0, 0, 0, 0, 1, 1, 1,\n",
              "       0, 0, 0, 0, 0, 0, 0, 0, 0, 0, 0, 0, 0, 0, 0, 1, 0, 0, 0, 0, 0, 0,\n",
              "       0, 0, 1, 0, 1, 1, 1, 1, 1, 0, 0, 1, 0, 0, 1, 1, 1, 1, 0, 1, 0, 0,\n",
              "       1, 1, 1, 1, 0, 1, 0, 0, 1, 0, 1, 0, 0, 1, 1, 1, 0, 0, 1, 0, 0, 0,\n",
              "       1, 1, 1, 0, 1, 1, 0, 0, 1, 1, 1, 0, 0, 1, 1, 1, 1, 0, 1, 1, 0, 1,\n",
              "       1, 1, 1, 1, 1, 1, 1, 0, 0, 0, 1, 0, 0, 1, 1, 1, 0, 0, 1, 0, 1, 0,\n",
              "       0, 1, 0, 0, 1, 1, 0, 1, 1, 0, 1, 1, 1, 1, 0, 1, 1, 1, 1, 1, 1, 1,\n",
              "       1, 1, 0, 1, 1, 1, 1, 0, 0, 1, 0, 1, 1, 0, 0, 1, 1, 0, 0, 1, 1, 1,\n",
              "       1, 0, 1, 1, 0, 0, 0, 1, 0, 1, 0, 1, 1, 1, 0, 1, 1, 0, 0, 1, 0, 0,\n",
              "       0, 0, 1, 0, 0, 0, 1, 0, 1, 0, 1, 1, 0, 1, 0, 0, 0, 0, 1, 1, 0, 0,\n",
              "       1, 1, 1, 0, 1, 1, 1, 1, 1, 0, 0, 1, 1, 0, 1, 1, 0, 0, 1, 0, 1, 1,\n",
              "       1, 1, 0, 1, 1, 1, 1, 1, 0, 1, 0, 0, 0, 0, 0, 0, 0, 0, 0, 0, 0, 0,\n",
              "       0, 0, 1, 1, 1, 1, 1, 1, 0, 1, 0, 1, 1, 0, 1, 1, 0, 1, 0, 0, 1, 1,\n",
              "       1, 1, 1, 1, 1, 1, 1, 1, 1, 1, 1, 0, 1, 1, 0, 1, 0, 1, 1, 1, 1, 1,\n",
              "       1, 1, 1, 1, 1, 1, 1, 1, 1, 0, 1, 1, 1, 0, 1, 0, 1, 1, 1, 1, 0, 0,\n",
              "       0, 1, 1, 1, 1, 0, 1, 0, 1, 0, 1, 1, 1, 0, 1, 1, 1, 1, 1, 1, 1, 0,\n",
              "       0, 0, 1, 1, 1, 1, 1, 1, 1, 1, 1, 1, 1, 0, 0, 1, 0, 0, 0, 1, 0, 0,\n",
              "       1, 1, 1, 1, 1, 0, 1, 1, 1, 1, 1, 0, 1, 1, 1, 0, 1, 1, 0, 0, 1, 1,\n",
              "       1, 1, 1, 1, 0, 1, 1, 1, 1, 1, 1, 1, 0, 1, 1, 1, 1, 1, 0, 1, 1, 0,\n",
              "       1, 1, 1, 1, 1, 1, 1, 1, 1, 1, 1, 1, 0, 1, 0, 0, 1, 0, 1, 1, 1, 1,\n",
              "       1, 0, 1, 1, 0, 1, 0, 1, 1, 0, 1, 0, 1, 1, 1, 1, 1, 1, 1, 1, 0, 0,\n",
              "       1, 1, 1, 1, 1, 1, 0, 1, 1, 1, 1, 1, 1, 1, 1, 1, 1, 0, 1, 1, 1, 1,\n",
              "       1, 1, 1, 0, 1, 0, 1, 1, 0, 1, 1, 1, 1, 1, 0, 0, 1, 0, 1, 0, 1, 1,\n",
              "       1, 1, 1, 0, 1, 1, 0, 1, 0, 1, 0, 0, 1, 1, 1, 0, 1, 1, 1, 1, 1, 1,\n",
              "       1, 1, 1, 1, 1, 0, 1, 0, 0, 1, 1, 1, 1, 1, 1, 1, 1, 1, 1, 1, 1, 1,\n",
              "       1, 1, 1, 1, 1, 1, 1, 1, 1, 1, 1, 1, 0, 0, 0, 0, 0, 0, 1])"
            ]
          },
          "metadata": {
            "tags": []
          },
          "execution_count": 24
        }
      ]
    },
    {
      "cell_type": "code",
      "metadata": {
        "colab": {
          "base_uri": "https://localhost:8080/"
        },
        "id": "vJGu44U3ud8R",
        "outputId": "dd1b2121-ca77-4752-fb30-5532be9fbf34"
      },
      "source": [
        "data.target_names"
      ],
      "execution_count": 25,
      "outputs": [
        {
          "output_type": "execute_result",
          "data": {
            "text/plain": [
              "array(['malignant', 'benign'], dtype='<U9')"
            ]
          },
          "metadata": {
            "tags": []
          },
          "execution_count": 25
        }
      ]
    },
    {
      "cell_type": "code",
      "metadata": {
        "colab": {
          "base_uri": "https://localhost:8080/"
        },
        "id": "bYoJUWxCuhta",
        "outputId": "be8d7ebe-db68-48fa-c1f2-c797e7d6f0ad"
      },
      "source": [
        "data.target.shape"
      ],
      "execution_count": 26,
      "outputs": [
        {
          "output_type": "execute_result",
          "data": {
            "text/plain": [
              "(569,)"
            ]
          },
          "metadata": {
            "tags": []
          },
          "execution_count": 26
        }
      ]
    },
    {
      "cell_type": "code",
      "metadata": {
        "colab": {
          "base_uri": "https://localhost:8080/"
        },
        "id": "ey_n17IOuqsT",
        "outputId": "72be3af0-c7e8-484f-b31a-87b4d84bf42f"
      },
      "source": [
        "data.feature_names"
      ],
      "execution_count": 27,
      "outputs": [
        {
          "output_type": "execute_result",
          "data": {
            "text/plain": [
              "array(['mean radius', 'mean texture', 'mean perimeter', 'mean area',\n",
              "       'mean smoothness', 'mean compactness', 'mean concavity',\n",
              "       'mean concave points', 'mean symmetry', 'mean fractal dimension',\n",
              "       'radius error', 'texture error', 'perimeter error', 'area error',\n",
              "       'smoothness error', 'compactness error', 'concavity error',\n",
              "       'concave points error', 'symmetry error',\n",
              "       'fractal dimension error', 'worst radius', 'worst texture',\n",
              "       'worst perimeter', 'worst area', 'worst smoothness',\n",
              "       'worst compactness', 'worst concavity', 'worst concave points',\n",
              "       'worst symmetry', 'worst fractal dimension'], dtype='<U23')"
            ]
          },
          "metadata": {
            "tags": []
          },
          "execution_count": 27
        }
      ]
    },
    {
      "cell_type": "code",
      "metadata": {
        "id": "pK59wFeWuwp5"
      },
      "source": [
        "from sklearn.model_selection import train_test_split"
      ],
      "execution_count": 28,
      "outputs": []
    },
    {
      "cell_type": "code",
      "metadata": {
        "id": "RtFvOkEFu56Q"
      },
      "source": [
        "X_train, X_test, y_train, y_test = train_test_split(data.data, data.target, test_size=0.33)\n",
        "N, D = X_train.shape"
      ],
      "execution_count": 29,
      "outputs": []
    },
    {
      "cell_type": "code",
      "metadata": {
        "id": "0hTFyD_uviFh"
      },
      "source": [
        "from sklearn.preprocessing import StandardScaler\n",
        "\n",
        "scalar = StandardScaler()\n",
        "X_train = scalar.fit_transform(X_train)\n",
        "X_test = scalar.transform(X_test)"
      ],
      "execution_count": 30,
      "outputs": []
    },
    {
      "cell_type": "code",
      "metadata": {
        "colab": {
          "base_uri": "https://localhost:8080/"
        },
        "id": "YKZGYs--woL4",
        "outputId": "ab33c179-0ad2-44c7-fe36-254636245cfe"
      },
      "source": [
        "model = tf.keras.models.Sequential([\n",
        "    tf.keras.layers.Input(shape=(D,),),\n",
        "    tf.keras.layers.Dense(1, activation='sigmoid',)\n",
        "])\n",
        "\n",
        "model.compile(\n",
        "    optimizer='adam',\n",
        "    loss='binary_crossentropy',\n",
        "    metrics=['accuracy']\n",
        ")\n",
        "\n",
        "r = model.fit(X_train, y_train, validation_data=(X_test, y_test,), epochs=100,)\n",
        "\n",
        "print(f'Train score: {model.evaluate(X_train, y_train)}')\n",
        "print(f'Test score: {model.evaluate(X_test, y_test)}')"
      ],
      "execution_count": 31,
      "outputs": [
        {
          "output_type": "stream",
          "text": [
            "WARNING:tensorflow:Please add `keras.layers.InputLayer` instead of `keras.Input` to Sequential model. `keras.Input` is intended to be used by Functional model.\n",
            "Epoch 1/100\n",
            "12/12 [==============================] - 1s 14ms/step - loss: 0.9950 - accuracy: 0.2073 - val_loss: 0.8757 - val_accuracy: 0.3404\n",
            "Epoch 2/100\n",
            "12/12 [==============================] - 0s 4ms/step - loss: 0.8960 - accuracy: 0.2887 - val_loss: 0.7908 - val_accuracy: 0.4521\n",
            "Epoch 3/100\n",
            "12/12 [==============================] - 0s 5ms/step - loss: 0.8073 - accuracy: 0.3832 - val_loss: 0.7169 - val_accuracy: 0.5213\n",
            "Epoch 4/100\n",
            "12/12 [==============================] - 0s 5ms/step - loss: 0.7320 - accuracy: 0.5171 - val_loss: 0.6525 - val_accuracy: 0.6170\n",
            "Epoch 5/100\n",
            "12/12 [==============================] - 0s 5ms/step - loss: 0.6653 - accuracy: 0.6168 - val_loss: 0.5983 - val_accuracy: 0.6862\n",
            "Epoch 6/100\n",
            "12/12 [==============================] - 0s 5ms/step - loss: 0.6090 - accuracy: 0.7139 - val_loss: 0.5522 - val_accuracy: 0.7447\n",
            "Epoch 7/100\n",
            "12/12 [==============================] - 0s 4ms/step - loss: 0.5613 - accuracy: 0.7953 - val_loss: 0.5127 - val_accuracy: 0.7660\n",
            "Epoch 8/100\n",
            "12/12 [==============================] - 0s 3ms/step - loss: 0.5209 - accuracy: 0.8215 - val_loss: 0.4785 - val_accuracy: 0.8191\n",
            "Epoch 9/100\n",
            "12/12 [==============================] - 0s 3ms/step - loss: 0.4860 - accuracy: 0.8661 - val_loss: 0.4490 - val_accuracy: 0.8351\n",
            "Epoch 10/100\n",
            "12/12 [==============================] - 0s 3ms/step - loss: 0.4554 - accuracy: 0.8898 - val_loss: 0.4237 - val_accuracy: 0.8457\n",
            "Epoch 11/100\n",
            "12/12 [==============================] - 0s 3ms/step - loss: 0.4300 - accuracy: 0.9003 - val_loss: 0.4011 - val_accuracy: 0.8511\n",
            "Epoch 12/100\n",
            "12/12 [==============================] - 0s 3ms/step - loss: 0.4064 - accuracy: 0.9029 - val_loss: 0.3816 - val_accuracy: 0.8617\n",
            "Epoch 13/100\n",
            "12/12 [==============================] - 0s 5ms/step - loss: 0.3863 - accuracy: 0.9134 - val_loss: 0.3642 - val_accuracy: 0.8670\n",
            "Epoch 14/100\n",
            "12/12 [==============================] - 0s 4ms/step - loss: 0.3682 - accuracy: 0.9186 - val_loss: 0.3486 - val_accuracy: 0.8830\n",
            "Epoch 15/100\n",
            "12/12 [==============================] - 0s 4ms/step - loss: 0.3520 - accuracy: 0.9265 - val_loss: 0.3345 - val_accuracy: 0.8883\n",
            "Epoch 16/100\n",
            "12/12 [==============================] - 0s 3ms/step - loss: 0.3373 - accuracy: 0.9265 - val_loss: 0.3219 - val_accuracy: 0.8989\n",
            "Epoch 17/100\n",
            "12/12 [==============================] - 0s 5ms/step - loss: 0.3239 - accuracy: 0.9291 - val_loss: 0.3105 - val_accuracy: 0.9043\n",
            "Epoch 18/100\n",
            "12/12 [==============================] - 0s 4ms/step - loss: 0.3120 - accuracy: 0.9318 - val_loss: 0.2999 - val_accuracy: 0.9202\n",
            "Epoch 19/100\n",
            "12/12 [==============================] - 0s 4ms/step - loss: 0.3006 - accuracy: 0.9344 - val_loss: 0.2903 - val_accuracy: 0.9202\n",
            "Epoch 20/100\n",
            "12/12 [==============================] - 0s 4ms/step - loss: 0.2905 - accuracy: 0.9344 - val_loss: 0.2814 - val_accuracy: 0.9255\n",
            "Epoch 21/100\n",
            "12/12 [==============================] - 0s 4ms/step - loss: 0.2811 - accuracy: 0.9370 - val_loss: 0.2732 - val_accuracy: 0.9255\n",
            "Epoch 22/100\n",
            "12/12 [==============================] - 0s 4ms/step - loss: 0.2721 - accuracy: 0.9396 - val_loss: 0.2657 - val_accuracy: 0.9309\n",
            "Epoch 23/100\n",
            "12/12 [==============================] - 0s 4ms/step - loss: 0.2640 - accuracy: 0.9396 - val_loss: 0.2587 - val_accuracy: 0.9309\n",
            "Epoch 24/100\n",
            "12/12 [==============================] - 0s 6ms/step - loss: 0.2564 - accuracy: 0.9423 - val_loss: 0.2521 - val_accuracy: 0.9309\n",
            "Epoch 25/100\n",
            "12/12 [==============================] - 0s 4ms/step - loss: 0.2493 - accuracy: 0.9423 - val_loss: 0.2459 - val_accuracy: 0.9309\n",
            "Epoch 26/100\n",
            "12/12 [==============================] - 0s 5ms/step - loss: 0.2427 - accuracy: 0.9423 - val_loss: 0.2400 - val_accuracy: 0.9309\n",
            "Epoch 27/100\n",
            "12/12 [==============================] - 0s 4ms/step - loss: 0.2363 - accuracy: 0.9423 - val_loss: 0.2346 - val_accuracy: 0.9309\n",
            "Epoch 28/100\n",
            "12/12 [==============================] - 0s 4ms/step - loss: 0.2305 - accuracy: 0.9423 - val_loss: 0.2295 - val_accuracy: 0.9362\n",
            "Epoch 29/100\n",
            "12/12 [==============================] - 0s 4ms/step - loss: 0.2247 - accuracy: 0.9449 - val_loss: 0.2247 - val_accuracy: 0.9362\n",
            "Epoch 30/100\n",
            "12/12 [==============================] - 0s 4ms/step - loss: 0.2196 - accuracy: 0.9475 - val_loss: 0.2201 - val_accuracy: 0.9362\n",
            "Epoch 31/100\n",
            "12/12 [==============================] - 0s 5ms/step - loss: 0.2145 - accuracy: 0.9501 - val_loss: 0.2158 - val_accuracy: 0.9362\n",
            "Epoch 32/100\n",
            "12/12 [==============================] - 0s 4ms/step - loss: 0.2098 - accuracy: 0.9501 - val_loss: 0.2117 - val_accuracy: 0.9362\n",
            "Epoch 33/100\n",
            "12/12 [==============================] - 0s 5ms/step - loss: 0.2053 - accuracy: 0.9501 - val_loss: 0.2078 - val_accuracy: 0.9362\n",
            "Epoch 34/100\n",
            "12/12 [==============================] - 0s 5ms/step - loss: 0.2010 - accuracy: 0.9554 - val_loss: 0.2039 - val_accuracy: 0.9362\n",
            "Epoch 35/100\n",
            "12/12 [==============================] - 0s 4ms/step - loss: 0.1969 - accuracy: 0.9580 - val_loss: 0.2005 - val_accuracy: 0.9362\n",
            "Epoch 36/100\n",
            "12/12 [==============================] - 0s 4ms/step - loss: 0.1930 - accuracy: 0.9606 - val_loss: 0.1973 - val_accuracy: 0.9362\n",
            "Epoch 37/100\n",
            "12/12 [==============================] - 0s 5ms/step - loss: 0.1894 - accuracy: 0.9633 - val_loss: 0.1940 - val_accuracy: 0.9362\n",
            "Epoch 38/100\n",
            "12/12 [==============================] - 0s 4ms/step - loss: 0.1859 - accuracy: 0.9685 - val_loss: 0.1909 - val_accuracy: 0.9362\n",
            "Epoch 39/100\n",
            "12/12 [==============================] - 0s 5ms/step - loss: 0.1825 - accuracy: 0.9685 - val_loss: 0.1879 - val_accuracy: 0.9362\n",
            "Epoch 40/100\n",
            "12/12 [==============================] - 0s 4ms/step - loss: 0.1793 - accuracy: 0.9685 - val_loss: 0.1852 - val_accuracy: 0.9362\n",
            "Epoch 41/100\n",
            "12/12 [==============================] - 0s 4ms/step - loss: 0.1762 - accuracy: 0.9685 - val_loss: 0.1825 - val_accuracy: 0.9362\n",
            "Epoch 42/100\n",
            "12/12 [==============================] - 0s 4ms/step - loss: 0.1733 - accuracy: 0.9685 - val_loss: 0.1798 - val_accuracy: 0.9362\n",
            "Epoch 43/100\n",
            "12/12 [==============================] - 0s 4ms/step - loss: 0.1705 - accuracy: 0.9685 - val_loss: 0.1774 - val_accuracy: 0.9362\n",
            "Epoch 44/100\n",
            "12/12 [==============================] - 0s 4ms/step - loss: 0.1677 - accuracy: 0.9685 - val_loss: 0.1750 - val_accuracy: 0.9362\n",
            "Epoch 45/100\n",
            "12/12 [==============================] - 0s 5ms/step - loss: 0.1651 - accuracy: 0.9711 - val_loss: 0.1728 - val_accuracy: 0.9362\n",
            "Epoch 46/100\n",
            "12/12 [==============================] - 0s 4ms/step - loss: 0.1627 - accuracy: 0.9711 - val_loss: 0.1706 - val_accuracy: 0.9362\n",
            "Epoch 47/100\n",
            "12/12 [==============================] - 0s 4ms/step - loss: 0.1602 - accuracy: 0.9711 - val_loss: 0.1685 - val_accuracy: 0.9362\n",
            "Epoch 48/100\n",
            "12/12 [==============================] - 0s 4ms/step - loss: 0.1579 - accuracy: 0.9711 - val_loss: 0.1664 - val_accuracy: 0.9362\n",
            "Epoch 49/100\n",
            "12/12 [==============================] - 0s 4ms/step - loss: 0.1557 - accuracy: 0.9711 - val_loss: 0.1645 - val_accuracy: 0.9362\n",
            "Epoch 50/100\n",
            "12/12 [==============================] - 0s 4ms/step - loss: 0.1536 - accuracy: 0.9738 - val_loss: 0.1625 - val_accuracy: 0.9362\n",
            "Epoch 51/100\n",
            "12/12 [==============================] - 0s 4ms/step - loss: 0.1514 - accuracy: 0.9738 - val_loss: 0.1607 - val_accuracy: 0.9362\n",
            "Epoch 52/100\n",
            "12/12 [==============================] - 0s 5ms/step - loss: 0.1495 - accuracy: 0.9738 - val_loss: 0.1588 - val_accuracy: 0.9362\n",
            "Epoch 53/100\n",
            "12/12 [==============================] - 0s 4ms/step - loss: 0.1476 - accuracy: 0.9738 - val_loss: 0.1572 - val_accuracy: 0.9415\n",
            "Epoch 54/100\n",
            "12/12 [==============================] - 0s 4ms/step - loss: 0.1457 - accuracy: 0.9764 - val_loss: 0.1555 - val_accuracy: 0.9521\n",
            "Epoch 55/100\n",
            "12/12 [==============================] - 0s 5ms/step - loss: 0.1439 - accuracy: 0.9764 - val_loss: 0.1538 - val_accuracy: 0.9521\n",
            "Epoch 56/100\n",
            "12/12 [==============================] - 0s 4ms/step - loss: 0.1422 - accuracy: 0.9764 - val_loss: 0.1523 - val_accuracy: 0.9521\n",
            "Epoch 57/100\n",
            "12/12 [==============================] - 0s 4ms/step - loss: 0.1404 - accuracy: 0.9764 - val_loss: 0.1508 - val_accuracy: 0.9521\n",
            "Epoch 58/100\n",
            "12/12 [==============================] - 0s 5ms/step - loss: 0.1388 - accuracy: 0.9764 - val_loss: 0.1493 - val_accuracy: 0.9521\n",
            "Epoch 59/100\n",
            "12/12 [==============================] - 0s 4ms/step - loss: 0.1372 - accuracy: 0.9764 - val_loss: 0.1479 - val_accuracy: 0.9521\n",
            "Epoch 60/100\n",
            "12/12 [==============================] - 0s 5ms/step - loss: 0.1357 - accuracy: 0.9764 - val_loss: 0.1466 - val_accuracy: 0.9521\n",
            "Epoch 61/100\n",
            "12/12 [==============================] - 0s 4ms/step - loss: 0.1342 - accuracy: 0.9764 - val_loss: 0.1453 - val_accuracy: 0.9521\n",
            "Epoch 62/100\n",
            "12/12 [==============================] - 0s 4ms/step - loss: 0.1328 - accuracy: 0.9764 - val_loss: 0.1439 - val_accuracy: 0.9521\n",
            "Epoch 63/100\n",
            "12/12 [==============================] - 0s 4ms/step - loss: 0.1314 - accuracy: 0.9764 - val_loss: 0.1427 - val_accuracy: 0.9574\n",
            "Epoch 64/100\n",
            "12/12 [==============================] - 0s 4ms/step - loss: 0.1300 - accuracy: 0.9764 - val_loss: 0.1414 - val_accuracy: 0.9574\n",
            "Epoch 65/100\n",
            "12/12 [==============================] - 0s 5ms/step - loss: 0.1287 - accuracy: 0.9764 - val_loss: 0.1403 - val_accuracy: 0.9574\n",
            "Epoch 66/100\n",
            "12/12 [==============================] - 0s 4ms/step - loss: 0.1274 - accuracy: 0.9764 - val_loss: 0.1392 - val_accuracy: 0.9574\n",
            "Epoch 67/100\n",
            "12/12 [==============================] - 0s 4ms/step - loss: 0.1262 - accuracy: 0.9764 - val_loss: 0.1380 - val_accuracy: 0.9574\n",
            "Epoch 68/100\n",
            "12/12 [==============================] - 0s 4ms/step - loss: 0.1250 - accuracy: 0.9764 - val_loss: 0.1370 - val_accuracy: 0.9574\n",
            "Epoch 69/100\n",
            "12/12 [==============================] - 0s 4ms/step - loss: 0.1238 - accuracy: 0.9790 - val_loss: 0.1359 - val_accuracy: 0.9574\n",
            "Epoch 70/100\n",
            "12/12 [==============================] - 0s 4ms/step - loss: 0.1227 - accuracy: 0.9790 - val_loss: 0.1347 - val_accuracy: 0.9574\n",
            "Epoch 71/100\n",
            "12/12 [==============================] - 0s 5ms/step - loss: 0.1215 - accuracy: 0.9790 - val_loss: 0.1338 - val_accuracy: 0.9574\n",
            "Epoch 72/100\n",
            "12/12 [==============================] - 0s 5ms/step - loss: 0.1204 - accuracy: 0.9790 - val_loss: 0.1329 - val_accuracy: 0.9574\n",
            "Epoch 73/100\n",
            "12/12 [==============================] - 0s 6ms/step - loss: 0.1194 - accuracy: 0.9790 - val_loss: 0.1319 - val_accuracy: 0.9574\n",
            "Epoch 74/100\n",
            "12/12 [==============================] - 0s 5ms/step - loss: 0.1183 - accuracy: 0.9790 - val_loss: 0.1310 - val_accuracy: 0.9574\n",
            "Epoch 75/100\n",
            "12/12 [==============================] - 0s 5ms/step - loss: 0.1173 - accuracy: 0.9790 - val_loss: 0.1301 - val_accuracy: 0.9574\n",
            "Epoch 76/100\n",
            "12/12 [==============================] - 0s 4ms/step - loss: 0.1163 - accuracy: 0.9790 - val_loss: 0.1291 - val_accuracy: 0.9574\n",
            "Epoch 77/100\n",
            "12/12 [==============================] - 0s 4ms/step - loss: 0.1154 - accuracy: 0.9816 - val_loss: 0.1283 - val_accuracy: 0.9574\n",
            "Epoch 78/100\n",
            "12/12 [==============================] - 0s 5ms/step - loss: 0.1144 - accuracy: 0.9816 - val_loss: 0.1275 - val_accuracy: 0.9574\n",
            "Epoch 79/100\n",
            "12/12 [==============================] - 0s 4ms/step - loss: 0.1136 - accuracy: 0.9816 - val_loss: 0.1267 - val_accuracy: 0.9574\n",
            "Epoch 80/100\n",
            "12/12 [==============================] - 0s 4ms/step - loss: 0.1126 - accuracy: 0.9816 - val_loss: 0.1259 - val_accuracy: 0.9574\n",
            "Epoch 81/100\n",
            "12/12 [==============================] - 0s 5ms/step - loss: 0.1118 - accuracy: 0.9816 - val_loss: 0.1251 - val_accuracy: 0.9574\n",
            "Epoch 82/100\n",
            "12/12 [==============================] - 0s 4ms/step - loss: 0.1109 - accuracy: 0.9816 - val_loss: 0.1243 - val_accuracy: 0.9574\n",
            "Epoch 83/100\n",
            "12/12 [==============================] - 0s 4ms/step - loss: 0.1101 - accuracy: 0.9816 - val_loss: 0.1235 - val_accuracy: 0.9574\n",
            "Epoch 84/100\n",
            "12/12 [==============================] - 0s 5ms/step - loss: 0.1093 - accuracy: 0.9816 - val_loss: 0.1228 - val_accuracy: 0.9574\n",
            "Epoch 85/100\n",
            "12/12 [==============================] - 0s 6ms/step - loss: 0.1085 - accuracy: 0.9816 - val_loss: 0.1220 - val_accuracy: 0.9574\n",
            "Epoch 86/100\n",
            "12/12 [==============================] - 0s 4ms/step - loss: 0.1078 - accuracy: 0.9816 - val_loss: 0.1213 - val_accuracy: 0.9574\n",
            "Epoch 87/100\n",
            "12/12 [==============================] - 0s 4ms/step - loss: 0.1069 - accuracy: 0.9816 - val_loss: 0.1206 - val_accuracy: 0.9574\n",
            "Epoch 88/100\n",
            "12/12 [==============================] - 0s 5ms/step - loss: 0.1063 - accuracy: 0.9816 - val_loss: 0.1201 - val_accuracy: 0.9574\n",
            "Epoch 89/100\n",
            "12/12 [==============================] - 0s 4ms/step - loss: 0.1055 - accuracy: 0.9816 - val_loss: 0.1193 - val_accuracy: 0.9574\n",
            "Epoch 90/100\n",
            "12/12 [==============================] - 0s 4ms/step - loss: 0.1048 - accuracy: 0.9816 - val_loss: 0.1187 - val_accuracy: 0.9574\n",
            "Epoch 91/100\n",
            "12/12 [==============================] - 0s 5ms/step - loss: 0.1041 - accuracy: 0.9816 - val_loss: 0.1181 - val_accuracy: 0.9574\n",
            "Epoch 92/100\n",
            "12/12 [==============================] - 0s 6ms/step - loss: 0.1034 - accuracy: 0.9816 - val_loss: 0.1175 - val_accuracy: 0.9574\n",
            "Epoch 93/100\n",
            "12/12 [==============================] - 0s 6ms/step - loss: 0.1028 - accuracy: 0.9816 - val_loss: 0.1169 - val_accuracy: 0.9574\n",
            "Epoch 94/100\n",
            "12/12 [==============================] - 0s 4ms/step - loss: 0.1021 - accuracy: 0.9816 - val_loss: 0.1163 - val_accuracy: 0.9574\n",
            "Epoch 95/100\n",
            "12/12 [==============================] - 0s 6ms/step - loss: 0.1015 - accuracy: 0.9816 - val_loss: 0.1157 - val_accuracy: 0.9574\n",
            "Epoch 96/100\n",
            "12/12 [==============================] - 0s 4ms/step - loss: 0.1008 - accuracy: 0.9816 - val_loss: 0.1151 - val_accuracy: 0.9574\n",
            "Epoch 97/100\n",
            "12/12 [==============================] - 0s 4ms/step - loss: 0.1003 - accuracy: 0.9816 - val_loss: 0.1146 - val_accuracy: 0.9574\n",
            "Epoch 98/100\n",
            "12/12 [==============================] - 0s 4ms/step - loss: 0.0996 - accuracy: 0.9816 - val_loss: 0.1141 - val_accuracy: 0.9574\n",
            "Epoch 99/100\n",
            "12/12 [==============================] - 0s 4ms/step - loss: 0.0991 - accuracy: 0.9816 - val_loss: 0.1135 - val_accuracy: 0.9628\n",
            "Epoch 100/100\n",
            "12/12 [==============================] - 0s 4ms/step - loss: 0.0985 - accuracy: 0.9816 - val_loss: 0.1129 - val_accuracy: 0.9574\n",
            "12/12 [==============================] - 0s 2ms/step - loss: 0.0982 - accuracy: 0.9816\n",
            "Train score: [0.09815752506256104, 0.9816272854804993]\n",
            "6/6 [==============================] - 0s 3ms/step - loss: 0.1129 - accuracy: 0.9574\n",
            "Test score: [0.11291282624006271, 0.957446813583374]\n"
          ],
          "name": "stdout"
        }
      ]
    },
    {
      "cell_type": "code",
      "metadata": {
        "colab": {
          "base_uri": "https://localhost:8080/",
          "height": 265
        },
        "id": "tm8vwRyfyp6P",
        "outputId": "7e10b62c-e5a0-4e70-ada1-18af25d28393"
      },
      "source": [
        "import matplotlib.pyplot as plt\n",
        "\n",
        "plt.plot(r.history['loss'], label='loss')\n",
        "plt.plot(r.history['val_loss'], label='val_loss')\n",
        "plt.legend();"
      ],
      "execution_count": 32,
      "outputs": [
        {
          "output_type": "display_data",
          "data": {
            "image/png": "[encoded data removed]",
            "text/plain": [
              "<Figure size 432x288 with 1 Axes>"
            ]
          },
          "metadata": {
            "tags": [],
            "needs_background": "light"
          }
        }
      ]
    },
    {
      "cell_type": "code",
      "metadata": {
        "colab": {
          "base_uri": "https://localhost:8080/"
        },
        "id": "gtGk5cnB0M8T",
        "outputId": "f269ef26-81da-4c26-bf69-6ffea310b5d3"
      },
      "source": [
        "print(r.history.keys())"
      ],
      "execution_count": 33,
      "outputs": [
        {
          "output_type": "stream",
          "text": [
            "dict_keys(['loss', 'accuracy', 'val_loss', 'val_accuracy'])\n"
          ],
          "name": "stdout"
        }
      ]
    },
    {
      "cell_type": "code",
      "metadata": {
        "colab": {
          "base_uri": "https://localhost:8080/",
          "height": 265
        },
        "id": "UOgEmCJW0ZN_",
        "outputId": "86f29147-ff52-4f2d-9a8f-6f0b540a5a6c"
      },
      "source": [
        "plt.plot(r.history['accuracy'], label='accuracy')\n",
        "plt.plot(r.history['val_accuracy'], label='val_accuracy')\n",
        "plt.legend();"
      ],
      "execution_count": 34,
      "outputs": [
        {
          "output_type": "display_data",
          "data": {
            "image/png": "[encoded data removed]",
            "text/plain": [
              "<Figure size 432x288 with 1 Axes>"
            ]
          },
          "metadata": {
            "tags": [],
            "needs_background": "light"
          }
        }
      ]
    },
    {
      "cell_type": "code",
      "metadata": {
        "colab": {
          "base_uri": "https://localhost:8080/"
        },
        "id": "BMCN5s2s0yD9",
        "outputId": "d1a32b14-a571-4ceb-9844-1f21647bac93"
      },
      "source": [
        "P = model.predict(X_test)\n",
        "print(P)"
      ],
      "execution_count": 35,
      "outputs": [
        {
          "output_type": "stream",
          "text": [
            "[[7.4337870e-01]\n",
            " [9.6140373e-01]\n",
            " [1.5103817e-02]\n",
            " [9.9728584e-01]\n",
            " [4.3792886e-01]\n",
            " [9.9445415e-01]\n",
            " [7.0785284e-03]\n",
            " [1.6083121e-02]\n",
            " [9.8464978e-01]\n",
            " [9.3381035e-01]\n",
            " [7.3385644e-01]\n",
            " [6.0630661e-01]\n",
            " [9.4507802e-01]\n",
            " [9.4108534e-01]\n",
            " [9.4553542e-01]\n",
            " [6.4433300e-01]\n",
            " [3.4308136e-03]\n",
            " [9.8529625e-01]\n",
            " [1.7803431e-02]\n",
            " [2.3046502e-01]\n",
            " [5.4883522e-01]\n",
            " [1.0506153e-02]\n",
            " [7.6207519e-04]\n",
            " [2.5373578e-02]\n",
            " [9.8101276e-01]\n",
            " [2.3649901e-02]\n",
            " [9.9120641e-01]\n",
            " [9.5210278e-01]\n",
            " [7.2393489e-01]\n",
            " [8.2084012e-01]\n",
            " [8.5857046e-01]\n",
            " [9.4597286e-01]\n",
            " [9.8360932e-01]\n",
            " [9.0339386e-01]\n",
            " [9.2388797e-01]\n",
            " [8.0614662e-01]\n",
            " [5.5273634e-01]\n",
            " [8.7736154e-01]\n",
            " [9.9168020e-01]\n",
            " [1.2042015e-04]\n",
            " [9.7412443e-01]\n",
            " [9.0873313e-01]\n",
            " [9.3330574e-01]\n",
            " [2.3353845e-02]\n",
            " [2.6046336e-02]\n",
            " [9.3723094e-01]\n",
            " [7.3465866e-01]\n",
            " [9.7951514e-01]\n",
            " [2.0489920e-06]\n",
            " [7.0952570e-01]\n",
            " [9.6319866e-01]\n",
            " [9.9188209e-01]\n",
            " [5.3109527e-02]\n",
            " [9.9887604e-01]\n",
            " [5.6427538e-01]\n",
            " [9.6698052e-01]\n",
            " [2.6777387e-04]\n",
            " [9.0482038e-01]\n",
            " [9.9957967e-01]\n",
            " [9.7829843e-01]\n",
            " [9.8869491e-01]\n",
            " [5.2352548e-03]\n",
            " [8.4860313e-01]\n",
            " [1.5061927e-01]\n",
            " [9.7867846e-04]\n",
            " [9.9681401e-01]\n",
            " [8.4659457e-04]\n",
            " [1.2252599e-02]\n",
            " [9.9442339e-01]\n",
            " [8.7640822e-01]\n",
            " [9.9769062e-01]\n",
            " [9.9583471e-01]\n",
            " [9.9782121e-01]\n",
            " [1.2035668e-03]\n",
            " [7.3605514e-01]\n",
            " [3.2029450e-02]\n",
            " [8.6001325e-01]\n",
            " [9.9789089e-01]\n",
            " [9.8844171e-01]\n",
            " [1.6281664e-02]\n",
            " [9.8904788e-01]\n",
            " [1.9728541e-03]\n",
            " [7.7531457e-01]\n",
            " [1.5232095e-01]\n",
            " [9.9624461e-01]\n",
            " [2.9292583e-02]\n",
            " [3.8403070e-01]\n",
            " [9.6256649e-01]\n",
            " [4.9088771e-06]\n",
            " [9.9357617e-01]\n",
            " [1.1480546e-01]\n",
            " [9.6401870e-03]\n",
            " [9.4045782e-01]\n",
            " [7.3576522e-01]\n",
            " [9.7970700e-01]\n",
            " [4.3213677e-01]\n",
            " [1.7600700e-01]\n",
            " [7.5689175e-05]\n",
            " [3.3672470e-05]\n",
            " [9.1320467e-01]\n",
            " [5.0005198e-01]\n",
            " [9.7489452e-01]\n",
            " [4.6750903e-04]\n",
            " [9.0177310e-01]\n",
            " [8.4310895e-01]\n",
            " [1.3994277e-03]\n",
            " [5.2040815e-03]\n",
            " [9.8238361e-01]\n",
            " [9.4403452e-01]\n",
            " [9.8793495e-01]\n",
            " [1.1657178e-03]\n",
            " [9.9745119e-01]\n",
            " [5.3665191e-02]\n",
            " [9.6578717e-01]\n",
            " [4.9389958e-02]\n",
            " [3.9401829e-02]\n",
            " [9.8190475e-01]\n",
            " [9.9977916e-01]\n",
            " [9.1569591e-01]\n",
            " [9.5249021e-01]\n",
            " [1.2955815e-02]\n",
            " [1.0845959e-03]\n",
            " [7.3016703e-02]\n",
            " [5.0835228e-01]\n",
            " [1.3327599e-04]\n",
            " [2.1780390e-01]\n",
            " [9.9795270e-01]\n",
            " [8.6091489e-01]\n",
            " [8.9059263e-01]\n",
            " [9.8428804e-01]\n",
            " [8.9513493e-01]\n",
            " [9.9689150e-01]\n",
            " [9.2609048e-01]\n",
            " [6.4219534e-02]\n",
            " [9.5678747e-01]\n",
            " [9.9054968e-01]\n",
            " [9.9575686e-01]\n",
            " [4.0957332e-04]\n",
            " [8.5044467e-01]\n",
            " [1.5547514e-02]\n",
            " [8.8587505e-01]\n",
            " [9.9948764e-01]\n",
            " [1.0225117e-02]\n",
            " [9.8971134e-01]\n",
            " [1.7395377e-02]\n",
            " [3.1220774e-05]\n",
            " [4.0931702e-02]\n",
            " [9.9707890e-01]\n",
            " [9.6561688e-01]\n",
            " [9.4568062e-01]\n",
            " [9.7988850e-01]\n",
            " [5.1104278e-05]\n",
            " [2.0147980e-05]\n",
            " [4.0950918e-01]\n",
            " [9.9449706e-01]\n",
            " [9.9570537e-01]\n",
            " [8.9491218e-01]\n",
            " [9.7602654e-01]\n",
            " [9.8220408e-01]\n",
            " [8.6438280e-01]\n",
            " [3.0470192e-03]\n",
            " [9.1892558e-01]\n",
            " [9.7356194e-01]\n",
            " [7.5052238e-01]\n",
            " [9.9582863e-01]\n",
            " [9.9597478e-01]\n",
            " [1.2285045e-01]\n",
            " [2.8867424e-03]\n",
            " [9.9990255e-01]\n",
            " [9.9919850e-01]\n",
            " [8.1786799e-01]\n",
            " [7.4791706e-01]\n",
            " [9.9546647e-01]\n",
            " [9.7737610e-01]\n",
            " [9.8928130e-01]\n",
            " [9.9854136e-01]\n",
            " [2.6354074e-02]\n",
            " [9.6737850e-01]\n",
            " [9.9595714e-01]\n",
            " [4.3799639e-02]\n",
            " [9.9394047e-01]\n",
            " [7.2133482e-01]\n",
            " [9.0440786e-01]\n",
            " [9.9269426e-01]\n",
            " [3.9913088e-01]\n",
            " [9.5541638e-01]\n",
            " [5.9266738e-05]\n",
            " [2.2462991e-06]]\n"
          ],
          "name": "stdout"
        }
      ]
    },
    {
      "cell_type": "code",
      "metadata": {
        "colab": {
          "base_uri": "https://localhost:8080/"
        },
        "id": "IWTc93K3NXqU",
        "outputId": "5491c102-a249-4651-97c1-6844bfe04e8f"
      },
      "source": [
        "import numpy as np\n",
        "P = np.round(P).flatten()\n",
        "print(P)"
      ],
      "execution_count": 36,
      "outputs": [
        {
          "output_type": "stream",
          "text": [
            "[1. 1. 0. 1. 0. 1. 0. 0. 1. 1. 1. 1. 1. 1. 1. 1. 0. 1. 0. 0. 1. 0. 0. 0.\n",
            " 1. 0. 1. 1. 1. 1. 1. 1. 1. 1. 1. 1. 1. 1. 1. 0. 1. 1. 1. 0. 0. 1. 1. 1.\n",
            " 0. 1. 1. 1. 0. 1. 1. 1. 0. 1. 1. 1. 1. 0. 1. 0. 0. 1. 0. 0. 1. 1. 1. 1.\n",
            " 1. 0. 1. 0. 1. 1. 1. 0. 1. 0. 1. 0. 1. 0. 0. 1. 0. 1. 0. 0. 1. 1. 1. 0.\n",
            " 0. 0. 0. 1. 1. 1. 0. 1. 1. 0. 0. 1. 1. 1. 0. 1. 0. 1. 0. 0. 1. 1. 1. 1.\n",
            " 0. 0. 0. 1. 0. 0. 1. 1. 1. 1. 1. 1. 1. 0. 1. 1. 1. 0. 1. 0. 1. 1. 0. 1.\n",
            " 0. 0. 0. 1. 1. 1. 1. 0. 0. 0. 1. 1. 1. 1. 1. 1. 0. 1. 1. 1. 1. 1. 0. 0.\n",
            " 1. 1. 1. 1. 1. 1. 1. 1. 0. 1. 1. 0. 1. 1. 1. 1. 0. 1. 0. 0.]\n"
          ],
          "name": "stdout"
        }
      ]
    },
    {
      "cell_type": "code",
      "metadata": {
        "colab": {
          "base_uri": "https://localhost:8080/"
        },
        "id": "2XkAq-caNmII",
        "outputId": "d02162ee-4c63-4281-a0ac-e3551c853e48"
      },
      "source": [
        "print(f'Manually calculated accuracy: {np.mean(P == y_test)}')\n",
        "print(f'Evaluate output: {model.evaluate(X_test, y_test)}')"
      ],
      "execution_count": 37,
      "outputs": [
        {
          "output_type": "stream",
          "text": [
            "Manually calculated accuracy: 0.9574468085106383\n",
            "6/6 [==============================] - 0s 2ms/step - loss: 0.1129 - accuracy: 0.9574\n",
            "Evaluate output: [0.11291282624006271, 0.957446813583374]\n"
          ],
          "name": "stdout"
        }
      ]
    },
    {
      "cell_type": "code",
      "metadata": {
        "id": "fxQ7Ag4qOggA"
      },
      "source": [
        "model.save('linear_classification.h5')"
      ],
      "execution_count": 38,
      "outputs": []
    },
    {
      "cell_type": "code",
      "metadata": {
        "colab": {
          "base_uri": "https://localhost:8080/"
        },
        "id": "t25MZvVyUKav",
        "outputId": "462cbf15-5cba-4113-cbb2-4d62b8d29af4"
      },
      "source": [
        "!ls -lh"
      ],
      "execution_count": 39,
      "outputs": [
        {
          "output_type": "stream",
          "text": [
            "total 24K\n",
            "-rw-r--r-- 1 root root  19K Jul  2 08:23 linear_classification.h5\n",
            "drwxr-xr-x 1 root root 4.0K Jun 15 13:37 sample_data\n"
          ],
          "name": "stdout"
        }
      ]
    },
    {
      "cell_type": "code",
      "metadata": {
        "colab": {
          "base_uri": "https://localhost:8080/"
        },
        "id": "T4YkbE9PUMR6",
        "outputId": "0c494efd-ac9b-4a1a-f18e-557cbf7dc504"
      },
      "source": [
        "model = tf.keras.models.load_model('linear_classification.h5')\n",
        "print(model.layers)\n",
        "model.evaluate(X_test, y_test)"
      ],
      "execution_count": 41,
      "outputs": [
        {
          "output_type": "stream",
          "text": [
            "[<tensorflow.python.keras.layers.core.Dense object at 0x7f085ef50a10>]\n",
            "6/6 [==============================] - 0s 2ms/step - loss: 0.1129 - accuracy: 0.9574\n"
          ],
          "name": "stdout"
        },
        {
          "output_type": "execute_result",
          "data": {
            "text/plain": [
              "[0.11291282624006271, 0.957446813583374]"
            ]
          },
          "metadata": {
            "tags": []
          },
          "execution_count": 41
        }
      ]
    },
    {
      "cell_type": "code",
      "metadata": {
        "id": "QXkDK0zoVQUz"
      },
      "source": [
        ""
      ],
      "execution_count": null,
      "outputs": []
    }
  ]
}